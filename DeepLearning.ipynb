{
  "nbformat": 4,
  "nbformat_minor": 0,
  "metadata": {
    "colab": {
      "provenance": [],
      "gpuType": "T4",
      "authorship_tag": "ABX9TyODtorkQUHwy96GXA63CAti",
      "include_colab_link": true
    },
    "kernelspec": {
      "name": "python3",
      "display_name": "Python 3"
    },
    "language_info": {
      "name": "python"
    },
    "accelerator": "GPU"
  },
  "cells": [
    {
      "cell_type": "markdown",
      "metadata": {
        "id": "view-in-github",
        "colab_type": "text"
      },
      "source": [
        "<a href=\"https://colab.research.google.com/github/WilsonG08/DEEP-LEARNING/blob/main/DeepLearning.ipynb\" target=\"_parent\"><img src=\"https://colab.research.google.com/assets/colab-badge.svg\" alt=\"Open In Colab\"/></a>"
      ]
    },
    {
      "cell_type": "code",
      "execution_count": 2,
      "metadata": {
        "id": "lh3xKCx9do0d"
      },
      "outputs": [],
      "source": [
        "# Librerias\n",
        "from tensorflow.python.framework.func_graph import flatten\n",
        "from tensorflow.keras.layers import Conv2D, MaxPooling2D, Flatten, Dense\n",
        "import numpy as np\n",
        "import tensorflow as tf\n",
        "import cv2 as cv\n",
        "from tensorflow import keras\n",
        "import matplotlib.pyplot as plt\n",
        "from tensorflow import keras\n"
      ]
    },
    {
      "cell_type": "code",
      "source": [
        "#CARGAR DATOS DE ENTRENAMIENTO Y PRUEBA\n",
        "(x_train, y_train), (x_test, y_test) = keras.datasets.fashion_mnist.load_data()\n",
        "\n",
        "\n",
        "#forma de las imagenes 28 x 28 pixeles  (60000 imagenes)\n",
        "x_train.shape\n",
        "\n",
        "\n",
        "#PREPARAR LOS DATOS\n",
        "#estandarizar los valores entre 0 y 1 pixeles(0 y 255)\n",
        "x_train=x_train.astype(\"float32\")/255\n",
        "x_test=x_test.astype(\"float32\")/255\n",
        "#cambiar forma de los datos de entrada, -1: establecer automaticamente la dimension, a 28*28 y a blanco /negro último (1) color (3)\n",
        "x_train=x_train.reshape(-1,28,28,1)\n",
        "x_test=x_test.reshape(-1,28,28,1)\n",
        "\n",
        "\n",
        "#CREAR ARQUITECTURA DE LA RED NEURONAL CONVOLUCIONAL\n",
        "#capa convolucion(#filtros, kernel,fun actvación, forma entrada)\n",
        "capa_convolucion=Conv2D(32,kernel_size=(3,3),activation=\"relu\",input_shape=(28,28,1))\n",
        "#capa agrupamiento (pool_size=(2,2))cada región de 2x2 píxeles en la entrada se reduce a un solo píxe\n",
        "capa_agrupamiento=MaxPooling2D(pool_size=(2,2))\n",
        "#capa aplanamiento\n",
        "capa_aplanamiento=Flatten()\n",
        "#capas Densas (escondidas)\n",
        "capa_oculta=Dense(units=64,activation=\"relu\")\n",
        "#capa Salida\n",
        "capa_salida=Dense(units=10,activation=\"softmax\")\n",
        "\n",
        "modelo= keras.Sequential([capa_convolucion,capa_agrupamiento,capa_aplanamiento,capa_oculta,capa_salida])\n",
        "\n",
        "\n",
        "#Compilar el modelo\n",
        "modelo.compile(optimizer='adam', loss='categorical_crossentropy',metrics=[\"accuracy\"])\n",
        "\n",
        "#pasar a categoricas (10 salidas)\n",
        "y_train = keras.utils.to_categorical(y_train, num_classes=10)\n",
        "y_test = keras.utils.to_categorical(y_test, num_classes=10)\n",
        "\n",
        "#entrenar el modelo\n",
        "modelo.fit(x_train, y_train, batch_size=128, epochs=5)\n",
        "\n",
        "\n",
        "\n",
        "#EVALUAR EL MODELO CON LOS DATOS DE PRUEBA\n",
        "perdida= modelo.evaluate(x_test,y_test)\n",
        "print(\"La función de perdida es: \",perdida[0])\n",
        "print(\"La precision es: \",perdida[1])\n",
        "\n",
        "\n",
        "# ======\n",
        "\n",
        "#leer imagen\n",
        "imagen = cv.imread('tacos.png', cv.IMREAD_GRAYSCALE)\n",
        "\n",
        "# Aplicar un filtro de desenfoque  GaussianBlur(imagen,kernel,desv_estandar)\n",
        "imagen = cv.GaussianBlur(imagen, (3, 3), 0)\n",
        "\n",
        "# Convertir a escala de grises\n",
        "#imagen = cv.cvtColor(imagen, cv.COLOR_BGR2GRAY)\n",
        "\n",
        "# Redimensionar las imágenes a un tamaño de 28 x 28\n",
        "imagen = cv.resize(imagen,(28,28),interpolation=cv.INTER_NEAREST)\n",
        "\n",
        "# Aplicar la inversión de colores (intensidad de gris)\n",
        "imagen = cv.bitwise_not(imagen)\n",
        "\n",
        "# Normalizar los píxeles al rango [0, 1]\n",
        "imagen = imagen.astype(\"float32\") / 255\n",
        "\n",
        "# Mostrar la imagen\n",
        "plt.imshow(imagen)\n",
        "\n",
        "# Agregar una dimensión adicional para representar el canal de color (escala de grises)\n",
        "#-1 se utiliza para indicar la posición en la que se debe agregar la nueva dimensión.\n",
        "imagen = np.expand_dims(imagen, axis=-1)\n",
        "\n",
        "# Agregar una dimensión adicional para representar el lote de imágenes\n",
        "#El valor 0 se refiere al primer eje del arreglo\n",
        "imagen = np.expand_dims(imagen, axis=0)\n",
        "\n",
        "# Realizar la predicción\n",
        "prediccion = modelo.predict(imagen)\n",
        "predicted_class = np.argmax(prediccion[0])\n",
        "\n",
        "# Imprimir la clase predicha\n",
        "print('La imagen se clasifica como:', predicted_class)"
      ],
      "metadata": {
        "colab": {
          "base_uri": "https://localhost:8080/",
          "height": 704
        },
        "id": "I1JKksjCgL45",
        "outputId": "eb7ea511-3dfc-4545-b455-c976ad18ffc0"
      },
      "execution_count": 43,
      "outputs": [
        {
          "output_type": "stream",
          "name": "stdout",
          "text": [
            "Epoch 1/5\n",
            "469/469 [==============================] - 4s 5ms/step - loss: 0.4923 - accuracy: 0.8277\n",
            "Epoch 2/5\n",
            "469/469 [==============================] - 2s 5ms/step - loss: 0.3205 - accuracy: 0.8874\n",
            "Epoch 3/5\n",
            "469/469 [==============================] - 2s 5ms/step - loss: 0.2834 - accuracy: 0.8998\n",
            "Epoch 4/5\n",
            "469/469 [==============================] - 2s 4ms/step - loss: 0.2564 - accuracy: 0.9084\n",
            "Epoch 5/5\n",
            "469/469 [==============================] - 2s 4ms/step - loss: 0.2355 - accuracy: 0.9157\n",
            "313/313 [==============================] - 1s 4ms/step - loss: 0.2828 - accuracy: 0.8981\n",
            "La función de perdida es:  0.28276515007019043\n",
            "La precision es:  0.8981000185012817\n",
            "1/1 [==============================] - 0s 57ms/step\n",
            "La imagen se clasifica como: 9\n"
          ]
        },
        {
          "output_type": "display_data",
          "data": {
            "text/plain": [
              "<Figure size 640x480 with 1 Axes>"
            ],
            "image/png": "[encoded data removed]"
          },
          "metadata": {}
        }
      ]
    },
    {
      "cell_type": "code",
      "source": [],
      "metadata": {
        "id": "HNColN3cgd51"
      },
      "execution_count": null,
      "outputs": []
    }
  ]
}